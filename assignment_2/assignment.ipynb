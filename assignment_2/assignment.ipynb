{
  "nbformat": 4,
  "nbformat_minor": 0,
  "metadata": {
    "colab": {
      "provenance": []
    },
    "kernelspec": {
      "name": "python3",
      "display_name": "Python 3"
    },
    "language_info": {
      "name": "python"
    }
  },
  "cells": [
    {
      "cell_type": "markdown",
      "source": [
        "Assignment 2, Andal Abro"
      ],
      "metadata": {
        "id": "j7hFAvEsA8Ib"
      }
    },
    {
      "cell_type": "code",
      "execution_count": null,
      "metadata": {
        "id": "lziPdJeIp84d"
      },
      "outputs": [],
      "source": [
        "\n",
        "\n",
        "def f(x):\n",
        "  '''Function to compute f(x).\n",
        "\n",
        "   Parameters: x, where x is any real number\n",
        "\n",
        "   Returns: f(x)\n",
        "'''\n",
        "  return (x**3 - x**2 - 1)\n"
      ]
    },
    {
      "cell_type": "code",
      "source": [
        "\n",
        "\n",
        "def df(x):\n",
        "  '''Function to compute f'(x).\n",
        "\n",
        "   Parameters: x, where x is any real number\n",
        "\n",
        "   Returns: f'(x)\n",
        "\n",
        "'''\n",
        "  return (3 * x**2 - 2*x)"
      ],
      "metadata": {
        "id": "cIkUwKTxqemW"
      },
      "execution_count": null,
      "outputs": []
    },
    {
      "cell_type": "code",
      "source": [
        "def newton(f, df, x0, epsilon, max_iter):\n",
        "\n",
        "  '''Function to find the root of f using Newton's Method.\n",
        "\n",
        "   Parameters:\n",
        "   f:  any function\n",
        "   df: the derivative of the function\n",
        "   x0: starting value\n",
        "   epsilon: boundary for convergence\n",
        "   max_iter: maximum number of iterations to be used\n",
        "\n",
        "   Returns: Root of f(x) if found, else None\n",
        "\n",
        "'''\n",
        "  x_n = x0\n",
        "  iterations = 1\n",
        "  for num in range(0, max_iter):\n",
        "\n",
        "    if (abs(f(x_n)) < epsilon):\n",
        "      print(f\"Found root in {iterations} iterations.\")\n",
        "      return x_n\n",
        "\n",
        "    # else, compute x_{n+1} recursively by Newton's formula\n",
        "\n",
        "    iterations += 1\n",
        "    x_n = x_n - f(x_n)/df(x_n)\n",
        "\n",
        "  # if root is not found in max_iter, return None\n",
        "\n",
        "  print(\"Iteration failed.\")\n",
        "  return None\n"
      ],
      "metadata": {
        "id": "GdRkKdWwqqfC"
      },
      "execution_count": null,
      "outputs": []
    },
    {
      "cell_type": "code",
      "source": [
        "## example 1 with x0 = 6\n",
        "\n",
        "root = newton(f, df, 6, 1e-6, 30)\n",
        "print(f\"Root is {root}\")\n",
        "\n",
        "## example 2 with x0 = 100\n",
        "print(\"\\n\")\n",
        "\n",
        "root = newton(f, df, 100, 1e-6, 30)\n",
        "print(f\"Root is {root}\")\n",
        "print(\"\\n\")\n",
        "\n",
        "## x0 = 6 with epsilon = 1e-8\n",
        "\n",
        "root = newton(f, df, 6, 1e-8, 30)\n",
        "print(f\"Root is {root}\")\n",
        "\n",
        "print(\"\")\n",
        "print(\"The number of iterations did not change with the modified epsilon value.\")\n",
        "\n"
      ],
      "metadata": {
        "id": "gybA1YPjvXTC"
      },
      "execution_count": null,
      "outputs": []
    }
  ]
}